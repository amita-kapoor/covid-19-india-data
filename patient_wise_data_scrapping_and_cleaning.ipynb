{
 "cells": [
  {
   "cell_type": "code",
   "execution_count": null,
   "metadata": {},
   "outputs": [],
   "source": []
  },
  {
   "cell_type": "code",
   "execution_count": 71,
   "metadata": {},
   "outputs": [],
   "source": [
    "# libraries\n",
    "\n",
    "from datetime import datetime\n",
    "import os\n",
    "import glob\n",
    "import requests \n",
    "import numpy as np\n",
    "import pandas as pd\n",
    "from bs4 import BeautifulSoup"
   ]
  },
  {
   "cell_type": "code",
   "execution_count": 18,
   "metadata": {},
   "outputs": [],
   "source": [
    "link = 'https://docs.google.com/spreadsheets/d/e/2PACX-1vSc_2y5N0I67wDU38DjDh35IZSIS30rQf7_NYZhtYYGU1jJYT6_kDx4YpF-qw0LSlGsBYP8pqM_a1Pd/pubhtml#'\n",
    "req = requests.get(link)\n",
    "soup = BeautifulSoup(req.content, \"html.parser\")"
   ]
  },
  {
   "cell_type": "code",
   "execution_count": 24,
   "metadata": {},
   "outputs": [],
   "source": [
    "# thead = soup.find_all('thead')[0]\n",
    "# head = thead.find_all('tr')\n",
    "\n",
    "# print(thead)\n",
    "# print(head)`"
   ]
  },
  {
   "cell_type": "code",
   "execution_count": 27,
   "metadata": {},
   "outputs": [
    {
     "name": "stdout",
     "output_type": "stream",
     "text": [
      "14\n"
     ]
    }
   ],
   "source": [
    "print(len(soup.find_all('tbody')))"
   ]
  },
  {
   "cell_type": "code",
   "execution_count": 29,
   "metadata": {},
   "outputs": [],
   "source": [
    "tbody = soup.find_all('tbody')[0]\n",
    "body = tbody.find_all('tr')\n",
    "\n",
    "# print(tbody)\n",
    "# print(body)"
   ]
  },
  {
   "cell_type": "code",
   "execution_count": 39,
   "metadata": {},
   "outputs": [
    {
     "data": {
      "text/plain": [
       "['Patient Number',\n",
       " 'State Patient Number',\n",
       " 'Date Announced',\n",
       " 'Age Bracket',\n",
       " 'Gender',\n",
       " 'Detected City',\n",
       " 'Detected District',\n",
       " 'Detected State',\n",
       " 'Current Status',\n",
       " 'Notes',\n",
       " 'Contracted from which Patient (Suspected)',\n",
       " 'Nationality',\n",
       " 'Status Change Date',\n",
       " 'Source_1',\n",
       " 'Source_2',\n",
       " 'Source_3',\n",
       " 'Backup Notes',\n",
       " '',\n",
       " '',\n",
       " '',\n",
       " '',\n",
       " '',\n",
       " '',\n",
       " '']"
      ]
     },
     "execution_count": 39,
     "metadata": {},
     "output_type": "execute_result"
    }
   ],
   "source": [
    "head_row = [i.text for i in body[0].find_all('td')]\n",
    "head_row"
   ]
  },
  {
   "cell_type": "code",
   "execution_count": 45,
   "metadata": {},
   "outputs": [],
   "source": [
    "contents = []\n",
    "\n",
    "for i in range(len(body)):\n",
    "    contents.append([i.text for i in body[i].find_all('td')])"
   ]
  },
  {
   "cell_type": "code",
   "execution_count": 49,
   "metadata": {},
   "outputs": [
    {
     "data": {
      "text/html": [
       "<div>\n",
       "<style scoped>\n",
       "    .dataframe tbody tr th:only-of-type {\n",
       "        vertical-align: middle;\n",
       "    }\n",
       "\n",
       "    .dataframe tbody tr th {\n",
       "        vertical-align: top;\n",
       "    }\n",
       "\n",
       "    .dataframe thead th {\n",
       "        text-align: right;\n",
       "    }\n",
       "</style>\n",
       "<table border=\"1\" class=\"dataframe\">\n",
       "  <thead>\n",
       "    <tr style=\"text-align: right;\">\n",
       "      <th></th>\n",
       "      <th>Patient Number</th>\n",
       "      <th>State Patient Number</th>\n",
       "      <th>Date Announced</th>\n",
       "      <th>Age Bracket</th>\n",
       "      <th>Gender</th>\n",
       "      <th>Detected City</th>\n",
       "      <th>Detected District</th>\n",
       "      <th>Detected State</th>\n",
       "      <th>Current Status</th>\n",
       "      <th>Notes</th>\n",
       "      <th>...</th>\n",
       "      <th>Source_2</th>\n",
       "      <th>Source_3</th>\n",
       "      <th>Backup Notes</th>\n",
       "      <th></th>\n",
       "      <th></th>\n",
       "      <th></th>\n",
       "      <th></th>\n",
       "      <th></th>\n",
       "      <th></th>\n",
       "      <th></th>\n",
       "    </tr>\n",
       "  </thead>\n",
       "  <tbody>\n",
       "    <tr>\n",
       "      <th>0</th>\n",
       "      <td>1</td>\n",
       "      <td>KL-TS-P1</td>\n",
       "      <td>30/01/2020</td>\n",
       "      <td>20</td>\n",
       "      <td>F</td>\n",
       "      <td>Thrissur</td>\n",
       "      <td>Thrissur</td>\n",
       "      <td>Kerala</td>\n",
       "      <td>Recovered</td>\n",
       "      <td>Travelled from Wuhan</td>\n",
       "      <td>...</td>\n",
       "      <td>https://weather.com/en-IN/india/news/news/2020...</td>\n",
       "      <td>Student from Wuhan</td>\n",
       "      <td></td>\n",
       "      <td></td>\n",
       "      <td></td>\n",
       "      <td></td>\n",
       "      <td></td>\n",
       "      <td></td>\n",
       "      <td></td>\n",
       "      <td>None</td>\n",
       "    </tr>\n",
       "    <tr>\n",
       "      <th>1</th>\n",
       "      <td>2</td>\n",
       "      <td>KL-AL-P1</td>\n",
       "      <td>02/02/2020</td>\n",
       "      <td></td>\n",
       "      <td></td>\n",
       "      <td>Alappuzha</td>\n",
       "      <td>Alappuzha</td>\n",
       "      <td>Kerala</td>\n",
       "      <td>Recovered</td>\n",
       "      <td>Travelled from Wuhan</td>\n",
       "      <td>...</td>\n",
       "      <td>https://weather.com/en-IN/india/news/news/2020...</td>\n",
       "      <td></td>\n",
       "      <td>Student from Wuhan</td>\n",
       "      <td></td>\n",
       "      <td></td>\n",
       "      <td></td>\n",
       "      <td></td>\n",
       "      <td></td>\n",
       "      <td></td>\n",
       "      <td></td>\n",
       "    </tr>\n",
       "    <tr>\n",
       "      <th>2</th>\n",
       "      <td>3</td>\n",
       "      <td>KL-KS-P1</td>\n",
       "      <td>03/02/2020</td>\n",
       "      <td></td>\n",
       "      <td></td>\n",
       "      <td>Kasaragod</td>\n",
       "      <td>Kasaragod</td>\n",
       "      <td>Kerala</td>\n",
       "      <td>Recovered</td>\n",
       "      <td>Travelled from Wuhan</td>\n",
       "      <td>...</td>\n",
       "      <td>https://twitter.com/ANI/status/122422148580539...</td>\n",
       "      <td>https://weather.com/en-IN/india/news/news/2020...</td>\n",
       "      <td>Student from Wuhan</td>\n",
       "      <td></td>\n",
       "      <td></td>\n",
       "      <td></td>\n",
       "      <td></td>\n",
       "      <td></td>\n",
       "      <td></td>\n",
       "      <td></td>\n",
       "    </tr>\n",
       "    <tr>\n",
       "      <th>3</th>\n",
       "      <td>4</td>\n",
       "      <td>DL-P1</td>\n",
       "      <td>02/03/2020</td>\n",
       "      <td>45</td>\n",
       "      <td>M</td>\n",
       "      <td>East Delhi (Mayur Vihar)</td>\n",
       "      <td>East Delhi</td>\n",
       "      <td>Delhi</td>\n",
       "      <td>Recovered</td>\n",
       "      <td>Travelled from Austria, Italy</td>\n",
       "      <td>...</td>\n",
       "      <td>https://economictimes.indiatimes.com/news/poli...</td>\n",
       "      <td></td>\n",
       "      <td>Travel history to Italy and Austria</td>\n",
       "      <td></td>\n",
       "      <td></td>\n",
       "      <td></td>\n",
       "      <td></td>\n",
       "      <td></td>\n",
       "      <td></td>\n",
       "      <td></td>\n",
       "    </tr>\n",
       "    <tr>\n",
       "      <th>4</th>\n",
       "      <td>5</td>\n",
       "      <td>TS-P1</td>\n",
       "      <td>02/03/2020</td>\n",
       "      <td>24</td>\n",
       "      <td>M</td>\n",
       "      <td>Hyderabad</td>\n",
       "      <td>Hyderabad</td>\n",
       "      <td>Telangana</td>\n",
       "      <td>Recovered</td>\n",
       "      <td></td>\n",
       "      <td>...</td>\n",
       "      <td>https://www.indiatoday.in/india/story/coronavi...</td>\n",
       "      <td>https://www.thehindu.com/news/national/coronav...</td>\n",
       "      <td>Travel history to Dubai, Singapore contact</td>\n",
       "      <td></td>\n",
       "      <td></td>\n",
       "      <td></td>\n",
       "      <td></td>\n",
       "      <td></td>\n",
       "      <td></td>\n",
       "      <td></td>\n",
       "    </tr>\n",
       "  </tbody>\n",
       "</table>\n",
       "<p>5 rows × 24 columns</p>\n",
       "</div>"
      ],
      "text/plain": [
       "  Patient Number State Patient Number Date Announced Age Bracket Gender  \\\n",
       "0              1             KL-TS-P1     30/01/2020          20      F   \n",
       "1              2             KL-AL-P1     02/02/2020                      \n",
       "2              3             KL-KS-P1     03/02/2020                      \n",
       "3              4                DL-P1     02/03/2020          45      M   \n",
       "4              5                TS-P1     02/03/2020          24      M   \n",
       "\n",
       "              Detected City Detected District Detected State Current Status  \\\n",
       "0                  Thrissur          Thrissur         Kerala      Recovered   \n",
       "1                 Alappuzha         Alappuzha         Kerala      Recovered   \n",
       "2                 Kasaragod         Kasaragod         Kerala      Recovered   \n",
       "3  East Delhi (Mayur Vihar)        East Delhi          Delhi      Recovered   \n",
       "4                 Hyderabad         Hyderabad      Telangana      Recovered   \n",
       "\n",
       "                           Notes  ...  \\\n",
       "0           Travelled from Wuhan  ...   \n",
       "1           Travelled from Wuhan  ...   \n",
       "2           Travelled from Wuhan  ...   \n",
       "3  Travelled from Austria, Italy  ...   \n",
       "4                                 ...   \n",
       "\n",
       "                                            Source_2  \\\n",
       "0  https://weather.com/en-IN/india/news/news/2020...   \n",
       "1  https://weather.com/en-IN/india/news/news/2020...   \n",
       "2  https://twitter.com/ANI/status/122422148580539...   \n",
       "3  https://economictimes.indiatimes.com/news/poli...   \n",
       "4  https://www.indiatoday.in/india/story/coronavi...   \n",
       "\n",
       "                                            Source_3  \\\n",
       "0                                 Student from Wuhan   \n",
       "1                                                      \n",
       "2  https://weather.com/en-IN/india/news/news/2020...   \n",
       "3                                                      \n",
       "4  https://www.thehindu.com/news/national/coronav...   \n",
       "\n",
       "                                 Backup Notes                    \n",
       "0                                                          None  \n",
       "1                          Student from Wuhan                    \n",
       "2                          Student from Wuhan                    \n",
       "3         Travel history to Italy and Austria                    \n",
       "4  Travel history to Dubai, Singapore contact                    \n",
       "\n",
       "[5 rows x 24 columns]"
      ]
     },
     "execution_count": 49,
     "metadata": {},
     "output_type": "execute_result"
    }
   ],
   "source": [
    "p_df = pd.DataFrame(contents[2:len(contents)], columns=head_row)\n",
    "p_df.head()"
   ]
  },
  {
   "cell_type": "code",
   "execution_count": 51,
   "metadata": {},
   "outputs": [
    {
     "data": {
      "text/plain": [
       "(2072, 24)"
      ]
     },
     "execution_count": 51,
     "metadata": {},
     "output_type": "execute_result"
    }
   ],
   "source": [
    "p_df.shape"
   ]
  },
  {
   "cell_type": "code",
   "execution_count": 57,
   "metadata": {},
   "outputs": [
    {
     "data": {
      "text/plain": [
       "Index(['Patient Number', 'State Patient Number', 'Date Announced',\n",
       "       'Age Bracket', 'Gender', 'Detected City', 'Detected District',\n",
       "       'Detected State', 'Current Status', 'Notes',\n",
       "       'Contracted from which Patient (Suspected)', 'Nationality',\n",
       "       'Status Change Date', 'Source_1', 'Source_2', 'Source_3',\n",
       "       'Backup Notes', '', '', '', '', '', '', ''],\n",
       "      dtype='object')"
      ]
     },
     "execution_count": 57,
     "metadata": {},
     "output_type": "execute_result"
    }
   ],
   "source": [
    "p_df.columns"
   ]
  },
  {
   "cell_type": "code",
   "execution_count": 58,
   "metadata": {},
   "outputs": [],
   "source": [
    "p_df = p_df[['Patient Number', 'State Patient Number', 'Date Announced',\n",
    "       'Age Bracket', 'Gender', 'Detected City', 'Detected District',\n",
    "       'Detected State', 'Current Status', 'Notes',\n",
    "       'Contracted from which Patient (Suspected)', 'Nationality',\n",
    "       'Status Change Date', 'Source_1', 'Source_2', 'Source_3',\n",
    "       'Backup Notes']]"
   ]
  },
  {
   "cell_type": "code",
   "execution_count": 59,
   "metadata": {},
   "outputs": [
    {
     "data": {
      "text/plain": [
       "Patient Number                               0\n",
       "State Patient Number                         0\n",
       "Date Announced                               0\n",
       "Age Bracket                                  0\n",
       "Gender                                       0\n",
       "Detected City                                0\n",
       "Detected District                            0\n",
       "Detected State                               0\n",
       "Current Status                               0\n",
       "Notes                                        0\n",
       "Contracted from which Patient (Suspected)    0\n",
       "Nationality                                  0\n",
       "Status Change Date                           0\n",
       "Source_1                                     0\n",
       "Source_2                                     0\n",
       "Source_3                                     0\n",
       "Backup Notes                                 0\n",
       "dtype: int64"
      ]
     },
     "execution_count": 59,
     "metadata": {},
     "output_type": "execute_result"
    }
   ],
   "source": [
    "p_df.isna().sum()"
   ]
  },
  {
   "cell_type": "code",
   "execution_count": 69,
   "metadata": {},
   "outputs": [
    {
     "data": {
      "text/plain": [
       "(2072, 17)"
      ]
     },
     "execution_count": 69,
     "metadata": {},
     "output_type": "execute_result"
    }
   ],
   "source": []
  },
  {
   "cell_type": "code",
   "execution_count": 79,
   "metadata": {},
   "outputs": [
    {
     "name": "stdout",
     "output_type": "stream",
     "text": [
      "(2072, 17)\n",
      "Patient Number \t 0\n",
      "State Patient Number \t 0\n",
      "Date Announced \t 0\n",
      "Age Bracket \t 0\n",
      "Gender \t 0\n",
      "Detected City \t 0\n",
      "Detected District \t 0\n",
      "Detected State \t 0\n",
      "Current Status \t 0\n",
      "Notes \t 0\n",
      "Contracted from which Patient (Suspected) \t 0\n",
      "Nationality \t 0\n",
      "Status Change Date \t 0\n",
      "Source_1 \t 0\n",
      "Source_2 \t 0\n",
      "Source_3 \t 0\n",
      "Backup Notes \t 0\n"
     ]
    }
   ],
   "source": [
    "# no. of empty strings in each column\n",
    "# ===================================\n",
    "\n",
    "print(p_df.shape)\n",
    "\n",
    "for i in p_df.columns:\n",
    "    print(i, '\\t', p_df[p_df[i]==''].shape[0])"
   ]
  },
  {
   "cell_type": "code",
   "execution_count": 80,
   "metadata": {},
   "outputs": [
    {
     "name": "stdout",
     "output_type": "stream",
     "text": [
      "(2072, 17)\n"
     ]
    },
    {
     "data": {
      "text/plain": [
       "Patient Number                                767\n",
       "State Patient Number                         1783\n",
       "Date Announced                                876\n",
       "Age Bracket                                  1536\n",
       "Gender                                       1494\n",
       "Detected City                                1402\n",
       "Detected District                            1034\n",
       "Detected State                                876\n",
       "Current Status                                876\n",
       "Notes                                         884\n",
       "Contracted from which Patient (Suspected)    1823\n",
       "Nationality                                  1656\n",
       "Status Change Date                            879\n",
       "Source_1                                      899\n",
       "Source_2                                     1485\n",
       "Source_3                                     1931\n",
       "Backup Notes                                 1712\n",
       "dtype: int64"
      ]
     },
     "execution_count": 80,
     "metadata": {},
     "output_type": "execute_result"
    }
   ],
   "source": [
    "# replacing empty strings with np.nan\n",
    "# ==================================-\n",
    "\n",
    "print(p_df.shape)\n",
    "\n",
    "p_df = p_df.replace(r'', np.nan, regex=True)\n",
    "p_df.isna().sum()"
   ]
  },
  {
   "cell_type": "code",
   "execution_count": 82,
   "metadata": {},
   "outputs": [
    {
     "name": "stdout",
     "output_type": "stream",
     "text": [
      "(1196, 17)\n",
      "(1196, 17)\n"
     ]
    }
   ],
   "source": [
    "# droping empty rows (row with just row number but without patient entry\n",
    "# ======================================================================\n",
    "\n",
    "print(p_df.shape)\n",
    "p_df.dropna(subset=['Detected State'], inplace=True)\n",
    "print(p_df.shape)"
   ]
  },
  {
   "cell_type": "markdown",
   "metadata": {},
   "source": [
    "# Saving Data"
   ]
  },
  {
   "cell_type": "code",
   "execution_count": 83,
   "metadata": {},
   "outputs": [
    {
     "data": {
      "text/html": [
       "<div>\n",
       "<style scoped>\n",
       "    .dataframe tbody tr th:only-of-type {\n",
       "        vertical-align: middle;\n",
       "    }\n",
       "\n",
       "    .dataframe tbody tr th {\n",
       "        vertical-align: top;\n",
       "    }\n",
       "\n",
       "    .dataframe thead th {\n",
       "        text-align: right;\n",
       "    }\n",
       "</style>\n",
       "<table border=\"1\" class=\"dataframe\">\n",
       "  <thead>\n",
       "    <tr style=\"text-align: right;\">\n",
       "      <th></th>\n",
       "      <th>Patient Number</th>\n",
       "      <th>State Patient Number</th>\n",
       "      <th>Date Announced</th>\n",
       "      <th>Age Bracket</th>\n",
       "      <th>Gender</th>\n",
       "      <th>Detected City</th>\n",
       "      <th>Detected District</th>\n",
       "      <th>Detected State</th>\n",
       "      <th>Current Status</th>\n",
       "      <th>Notes</th>\n",
       "      <th>Contracted from which Patient (Suspected)</th>\n",
       "      <th>Nationality</th>\n",
       "      <th>Status Change Date</th>\n",
       "      <th>Source_1</th>\n",
       "      <th>Source_2</th>\n",
       "      <th>Source_3</th>\n",
       "      <th>Backup Notes</th>\n",
       "    </tr>\n",
       "  </thead>\n",
       "  <tbody>\n",
       "    <tr>\n",
       "      <th>687</th>\n",
       "      <td>688</td>\n",
       "      <td>NaN</td>\n",
       "      <td>26/03/2020</td>\n",
       "      <td>NaN</td>\n",
       "      <td>NaN</td>\n",
       "      <td>NaN</td>\n",
       "      <td>Jalandhar</td>\n",
       "      <td>Punjab</td>\n",
       "      <td>Hospitalized</td>\n",
       "      <td>Has a travel history</td>\n",
       "      <td>NaN</td>\n",
       "      <td>NaN</td>\n",
       "      <td>26/03/2020</td>\n",
       "      <td>https://dronamaps.com/corona.html#/</td>\n",
       "      <td>https://www.hindustantimes.com/cities/two-more...</td>\n",
       "      <td>https://twitter.com/ANI/status/124316212692914...</td>\n",
       "      <td>NaN</td>\n",
       "    </tr>\n",
       "    <tr>\n",
       "      <th>442</th>\n",
       "      <td>443</td>\n",
       "      <td>NaN</td>\n",
       "      <td>23/03/2020</td>\n",
       "      <td>24</td>\n",
       "      <td>M</td>\n",
       "      <td>Kasaragod</td>\n",
       "      <td>Kasaragod</td>\n",
       "      <td>Kerala</td>\n",
       "      <td>Hospitalized</td>\n",
       "      <td>Travelled from Dubai, UAE</td>\n",
       "      <td>NaN</td>\n",
       "      <td>NaN</td>\n",
       "      <td>23/03/2020</td>\n",
       "      <td>https://twitter.com/ANI/status/124206972027616...</td>\n",
       "      <td>https://www.facebook.com/permalink.php?story_f...</td>\n",
       "      <td>NaN</td>\n",
       "      <td>NaN</td>\n",
       "    </tr>\n",
       "    <tr>\n",
       "      <th>675</th>\n",
       "      <td>676</td>\n",
       "      <td>NaN</td>\n",
       "      <td>26/03/2020</td>\n",
       "      <td>39</td>\n",
       "      <td>M</td>\n",
       "      <td>Noida</td>\n",
       "      <td>Gautam Buddha Nagar</td>\n",
       "      <td>Uttar Pradesh</td>\n",
       "      <td>Hospitalized</td>\n",
       "      <td>(Sec 150) Husband of P677 (Colleague travelled...</td>\n",
       "      <td>NaN</td>\n",
       "      <td>India</td>\n",
       "      <td>26/03/2020</td>\n",
       "      <td>https://timesofindia.indiatimes.com/city/delhi...</td>\n",
       "      <td>https://www.patrika.com/noida-news/coronavirus...</td>\n",
       "      <td>https://www.jagran.com/uttar-pradesh/noida-ncr...</td>\n",
       "      <td>NaN</td>\n",
       "    </tr>\n",
       "    <tr>\n",
       "      <th>1187</th>\n",
       "      <td>1188</td>\n",
       "      <td>TN-P65</td>\n",
       "      <td>30/03/2020</td>\n",
       "      <td>NaN</td>\n",
       "      <td>M</td>\n",
       "      <td>Perundurai</td>\n",
       "      <td>Erode</td>\n",
       "      <td>Tamil Nadu</td>\n",
       "      <td>Hospitalized</td>\n",
       "      <td>Travelled from Delhi and Contact history with ...</td>\n",
       "      <td>NaN</td>\n",
       "      <td>NaN</td>\n",
       "      <td>30/03/2020</td>\n",
       "      <td>NaN</td>\n",
       "      <td>https://twitter.com/THChennai/status/124451822...</td>\n",
       "      <td>NaN</td>\n",
       "      <td>NaN</td>\n",
       "    </tr>\n",
       "    <tr>\n",
       "      <th>793</th>\n",
       "      <td>794</td>\n",
       "      <td>NaN</td>\n",
       "      <td>27/03/2020</td>\n",
       "      <td>NaN</td>\n",
       "      <td>NaN</td>\n",
       "      <td>NaN</td>\n",
       "      <td>NaN</td>\n",
       "      <td>Telangana</td>\n",
       "      <td>Hospitalized</td>\n",
       "      <td>Details awaited</td>\n",
       "      <td>NaN</td>\n",
       "      <td>NaN</td>\n",
       "      <td>27/03/2020</td>\n",
       "      <td>https://twitter.com/PTI_News/status/1243503417...</td>\n",
       "      <td>NaN</td>\n",
       "      <td>NaN</td>\n",
       "      <td>NaN</td>\n",
       "    </tr>\n",
       "  </tbody>\n",
       "</table>\n",
       "</div>"
      ],
      "text/plain": [
       "     Patient Number State Patient Number Date Announced Age Bracket Gender  \\\n",
       "687             688                  NaN     26/03/2020         NaN    NaN   \n",
       "442             443                  NaN     23/03/2020          24      M   \n",
       "675             676                  NaN     26/03/2020          39      M   \n",
       "1187           1188               TN-P65     30/03/2020         NaN      M   \n",
       "793             794                  NaN     27/03/2020         NaN    NaN   \n",
       "\n",
       "     Detected City    Detected District Detected State Current Status  \\\n",
       "687            NaN            Jalandhar         Punjab   Hospitalized   \n",
       "442      Kasaragod            Kasaragod         Kerala   Hospitalized   \n",
       "675         Noida   Gautam Buddha Nagar  Uttar Pradesh   Hospitalized   \n",
       "1187    Perundurai                Erode     Tamil Nadu   Hospitalized   \n",
       "793            NaN                  NaN      Telangana   Hospitalized   \n",
       "\n",
       "                                                  Notes  \\\n",
       "687                                Has a travel history   \n",
       "442                           Travelled from Dubai, UAE   \n",
       "675   (Sec 150) Husband of P677 (Colleague travelled...   \n",
       "1187  Travelled from Delhi and Contact history with ...   \n",
       "793                                     Details awaited   \n",
       "\n",
       "     Contracted from which Patient (Suspected) Nationality Status Change Date  \\\n",
       "687                                        NaN         NaN         26/03/2020   \n",
       "442                                        NaN         NaN         23/03/2020   \n",
       "675                                        NaN       India         26/03/2020   \n",
       "1187                                       NaN         NaN         30/03/2020   \n",
       "793                                        NaN         NaN         27/03/2020   \n",
       "\n",
       "                                               Source_1  \\\n",
       "687                 https://dronamaps.com/corona.html#/   \n",
       "442   https://twitter.com/ANI/status/124206972027616...   \n",
       "675   https://timesofindia.indiatimes.com/city/delhi...   \n",
       "1187                                                NaN   \n",
       "793   https://twitter.com/PTI_News/status/1243503417...   \n",
       "\n",
       "                                               Source_2  \\\n",
       "687   https://www.hindustantimes.com/cities/two-more...   \n",
       "442   https://www.facebook.com/permalink.php?story_f...   \n",
       "675   https://www.patrika.com/noida-news/coronavirus...   \n",
       "1187  https://twitter.com/THChennai/status/124451822...   \n",
       "793                                                 NaN   \n",
       "\n",
       "                                               Source_3 Backup Notes  \n",
       "687   https://twitter.com/ANI/status/124316212692914...          NaN  \n",
       "442                                                 NaN          NaN  \n",
       "675   https://www.jagran.com/uttar-pradesh/noida-ncr...          NaN  \n",
       "1187                                                NaN          NaN  \n",
       "793                                                 NaN          NaN  "
      ]
     },
     "execution_count": 83,
     "metadata": {},
     "output_type": "execute_result"
    }
   ],
   "source": [
    "p_df.sample(5)"
   ]
  },
  {
   "cell_type": "code",
   "execution_count": 76,
   "metadata": {},
   "outputs": [],
   "source": [
    "p_df.to_csv('patients_data.csv')"
   ]
  },
  {
   "cell_type": "code",
   "execution_count": null,
   "metadata": {},
   "outputs": [],
   "source": []
  }
 ],
 "metadata": {
  "kernelspec": {
   "display_name": "Python 3",
   "language": "python",
   "name": "python3"
  },
  "language_info": {
   "codemirror_mode": {
    "name": "ipython",
    "version": 3
   },
   "file_extension": ".py",
   "mimetype": "text/x-python",
   "name": "python",
   "nbconvert_exporter": "python",
   "pygments_lexer": "ipython3",
   "version": "3.7.7"
  }
 },
 "nbformat": 4,
 "nbformat_minor": 4
}
